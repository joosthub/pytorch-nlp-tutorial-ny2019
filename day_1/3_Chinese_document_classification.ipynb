{
 "cells": [
  {
   "cell_type": "markdown",
   "metadata": {},
   "source": [
    "# Chinese document Classification\n",
    "\n",
    "## Dataset Info\n",
    "\n",
    "The [Sogou News Dataset](http://www.sogou.com/labs/resource/tce.php); \n",
    "Each headline is in Pinyin. From the [Wikipedia on Pinyin](https://en.wikipedia.org/wiki/Pinyin):\n",
    "\n",
    "```\n",
    "Hanyu Pinyin (simplified Chinese: 汉语拼音; traditional Chinese: 漢語拼音), often abbreviated to pinyin, is the official romanization system for Standard Chinese in mainland China and to some extent in Taiwan. It is often used to teach Standard Mandarin Chinese, which is normally written using Chinese characters. The system includes four diacritics denoting tones. Pinyin without tone marks is used to spell Chinese names and words in languages written with the Latin alphabet, and also in certain computer input methods to enter Chinese characters.\n",
    "\n",
    "The pinyin system was developed in the 1950s by many linguists, including Zhou Youguang,[1] based on earlier forms of romanizations of Chinese. It was published by the Chinese government in 1958 and revised several times.[2] The International Organization for Standardization (ISO) adopted pinyin as an international standard in 1982,[3] and was followed by the United Nations in 1986.[1] The system was adopted as the official standard in Taiwan in 2009, where it is used for international events rather than for educational or computer-input purposes.[4][5] But \"some cities, businesses, and organizations, notably in the south of Taiwan, did not accept this\", so it remains one of several rival romanization systems in use.[6]```\n",
    "\n",
    "\n",
    "\n",
    "## Model Info\n",
    "\n",
    "A Character Convolutional Neural Network.  Each character is embedded and then a series of 3 convolutional layers are applied to the embedding.  The result is a sequence of feature vectors for each data point.  These feature vectors are averaged, resulting in a single feature vector for each datapoint.  These feature vectors are mapped to the prediction vector with a Linear layer."
   ]
  },
  {
   "cell_type": "code",
   "execution_count": 3,
   "metadata": {},
   "outputs": [],
   "source": [
    "from argparse import Namespace\n",
    "from collections import Counter\n",
    "import os\n",
    "os.environ['OMP_NUM_THREADS'] = '4' \n",
    "\n",
    "import matplotlib.pyplot as plt\n",
    "import numpy as np\n",
    "import pandas as pd\n",
    "import seaborn as sns\n",
    "import torch\n",
    "import torch.nn as nn\n",
    "import torch.nn.functional as F\n",
    "import torch.optim as optim\n",
    "from torch.utils.data import Dataset, DataLoader\n",
    "from tqdm import tqdm_notebook\n",
    "\n",
    "%matplotlib inline\n",
    "\n",
    "plt.style.use('fivethirtyeight')\n",
    "plt.rcParams['figure.figsize'] = (14, 6)\n",
    "\n",
    "from vocabulary import Vocabulary\n",
    "\n",
    "\n",
    "START_TOKEN = \"^\"\n",
    "END_TOKEN = \"_\""
   ]
  },
  {
   "cell_type": "markdown",
   "metadata": {},
   "source": [
    "# Dataset"
   ]
  },
  {
   "cell_type": "markdown",
   "metadata": {},
   "source": [
    "### Dataset Utilities"
   ]
  },
  {
   "cell_type": "code",
   "execution_count": 4,
   "metadata": {},
   "outputs": [],
   "source": [
    "def count_tokens(x_data_list):\n",
    "    \"\"\"Count the tokens in the data list\n",
    "    \n",
    "    Args:\n",
    "        x_data_list (list(list(str))): a list of lists, each sublist is a list of string tokens. \n",
    "            In other words, a list of the data points where the data points have been tokenized.\n",
    "    Returns:\n",
    "        dict: a mapping from tokens to their counts \n",
    "    \n",
    "    \"\"\"\n",
    "    # alternatively\n",
    "    # return Counter([token for x_data in x_data_list for token in x_data])\n",
    "    counter = Counter()\n",
    "    for x_data in x_data_list:\n",
    "        for token in x_data:\n",
    "            counter[token] += 1\n",
    "    return counter\n",
    "\n",
    "def add_splits(df, target_y_column, split_proportions=(0.7, 0.15, 0.15), seed=0):\n",
    "    \"\"\"Add 'train', 'val', and 'test' splits to the dataset\n",
    "    \n",
    "    Args:\n",
    "        df (pd.DataFrame): the data frame to assign splits to\n",
    "        target_y_column (str): the name of the label column; in order to\n",
    "            preserve the class distribution between splits, the label column\n",
    "            is used to group the datapoints and splits are assigned within these groups.\n",
    "        split_proportions (tuple(float, float, float)): three floats which represent the\n",
    "            proportion in 'train', 'val, 'and 'test'. Must sum to 1. \n",
    "        seed (int): the random seed for making the shuffling deterministic. If the dataset and seed\n",
    "            are kept the same, the split assignment is deterministic. \n",
    "    Returns:\n",
    "        pd.DataFrame: the input dataframe with a new column for split assignments; note: row order\n",
    "            will have changed.\n",
    "            \n",
    "    \"\"\"\n",
    "    df_by_label = {label: [] for label in df[target_y_column].unique()}\n",
    "    for _, row in df.iterrows():\n",
    "        df_by_label[row[target_y_column]].append(row.to_dict())\n",
    "    \n",
    "    np.random.seed(seed)\n",
    "    \n",
    "    assert sum(split_proportions) == 1, \"`split_proportions` should sum to 1\"\n",
    "    train_p, val_p, test_p = split_proportions\n",
    "    \n",
    "    out_df = []\n",
    "    # to ensure consistent behavior, lexicographically sort the dictionary\n",
    "    for _, data_points in sorted(df_by_label.items()):\n",
    "        np.random.shuffle(data_points)\n",
    "        n_total = len(data_points)\n",
    "        n_train = int(train_p * n_total)\n",
    "        n_val = int(val_p * n_total)\n",
    "        \n",
    "        for data_point in data_points[:n_train]:\n",
    "            data_point['split'] = 'train'\n",
    "            \n",
    "        for data_point in data_points[n_train:n_train+n_val]:\n",
    "            data_point['split'] = 'val'\n",
    "            \n",
    "        for data_point in data_points[n_train+n_val:]:\n",
    "            data_point['split'] = 'test'\n",
    "        \n",
    "        out_df.extend(data_points)\n",
    "    \n",
    "    return pd.DataFrame(out_df)"
   ]
  },
  {
   "cell_type": "markdown",
   "metadata": {},
   "source": [
    "### Supervised Text Vectorizer"
   ]
  },
  {
   "cell_type": "code",
   "execution_count": 5,
   "metadata": {},
   "outputs": [],
   "source": [
    "class SupervisedTextVectorizer:\n",
    "    \"\"\"A composite data structure that uses Vocabularies to map text and its labels to integers\n",
    "    \n",
    "    Attributes:\n",
    "        token_vocab (Vocabulary): the vocabulary managing the mapping between text tokens and \n",
    "            the unique indices that represent them\n",
    "        label_voab (Vocabulary): the vocabulary managing the mapping between labels and the\n",
    "            unique indices that represent them.\n",
    "        max_seq_length (int): the length of the longest sequence (including start or end tokens\n",
    "            that will be prepended or appended).\n",
    "    \"\"\"\n",
    "    def __init__(self, token_vocab, label_vocab, max_seq_length):\n",
    "        \"\"\"Initialize the SupervisedTextVectorizer\n",
    "        \n",
    "        Args:\n",
    "            token_vocab (Vocabulary): the vocabulary managing the mapping between text tokens and \n",
    "                the unique indices that represent them\n",
    "            label_voab (Vocabulary): the vocabulary managing the mapping between labels and the\n",
    "                unique indices that represent them.\n",
    "            max_seq_length (int): the length of the longest sequence (including start or end tokens\n",
    "                that will be prepended or appended).\n",
    "        \"\"\"\n",
    "        self.token_vocab = token_vocab\n",
    "        self.label_vocab = label_vocab\n",
    "        self.max_seq_length = max_seq_length\n",
    "        \n",
    "    def _wrap_with_start_end(self, x_data):\n",
    "        \"\"\"Prepend the start token and append the end token.\n",
    "        \n",
    "        Args:\n",
    "            x_data (list(str)): the list of string tokens in the data point\n",
    "        Returns:\n",
    "            list(str): the list of string tokens with start token prepended and end token appended\n",
    "        \"\"\"\n",
    "        return [self.token_vocab.start_token] + x_data + [self.token_vocab.end_token]\n",
    "    \n",
    "    def vectorize(self, x_data, y_label):\n",
    "        \"\"\"Convert the data point and its label into their integer form\n",
    "        \n",
    "        Args:\n",
    "            x_data (list(str)): the list of string tokens in the data point\n",
    "            y_label (str,int): the label associated with the data point\n",
    "        Returns:\n",
    "            numpy.ndarray, int: x_data in vector form, padded to the max_seq_length; and \n",
    "                the label mapped to the integer that represents it\n",
    "        \"\"\"\n",
    "        x_data = self._wrap_with_start_end(x_data)\n",
    "        x_vector = np.zeros(self.max_seq_length).astype(np.int64)\n",
    "        x_data_indices = [self.token_vocab[token] for token in x_data]\n",
    "        x_vector[:len(x_data_indices)] = x_data_indices\n",
    "        y_index = self.label_vocab[y_label]\n",
    "        return x_vector, y_index\n",
    "    \n",
    "    def transform(self, x_data_list, y_label_list):\n",
    "        \"\"\"Transform a dataset by vectorizing each datapoint\n",
    "        \n",
    "        Args: \n",
    "            x_data_list (list(list(str))): a list of lists, each sublist contains string tokens\n",
    "            y_label_list (list(str,int)): a list of either strings or integers. the y label can come\n",
    "                as strings or integers, but they are remapped with the label_vocab to a unique integer\n",
    "        Returns:\n",
    "            np.ndarray(matrix), np.ndarray(vector): the vectorized x (matrix) and vectorized y (vector) \n",
    "        \"\"\"\n",
    "        x_matrix = []\n",
    "        y_vector = []\n",
    "        for x_data, y_label in zip(x_data_list, y_label_list):\n",
    "            x_vector, y_index = self.vectorize(x_data, y_label)\n",
    "            x_matrix.append(x_vector)\n",
    "            y_vector.append(y_index)\n",
    "        \n",
    "        return np.stack(x_matrix), np.stack(y_vector)\n",
    "    \n",
    "    @classmethod\n",
    "    def from_df(cls, df, target_x_column, target_y_column, token_count_cutoff=0):\n",
    "        \"\"\"Instantiate the SupervisedTextVectorizer from a standardized dataframe\n",
    "        \n",
    "        Standardized DataFrame has a special meaning:\n",
    "            there is a column that has been tokenized into a list of strings\n",
    "        \n",
    "        Args:\n",
    "            df (pd.DataFrame): the dataset with a tokenized text column and a label column\n",
    "            target_x_column (str): the name of the tokenized text column\n",
    "            target_y_column (str): the name of the label column\n",
    "            token_count_cutoff (int): [default=0] the minimum token frequency to add to the\n",
    "                token_vocab.  Any tokens that are less frequent will not be added.\n",
    "        Returns:\n",
    "            SupervisedTextVectorizer: the instantiated vectorizer\n",
    "        \"\"\"\n",
    "        # get the x data (the observations)\n",
    "        target_x_list = df[target_x_column].tolist()\n",
    "        # compute max sequence length, add 2 for the start, end tokens\n",
    "        max_seq_length = max(map(len, target_x_list)) + 2 \n",
    "        \n",
    "        # populate token vocab        \n",
    "        token_vocab = Vocabulary(use_unks=False,\n",
    "                                 use_mask=True,\n",
    "                                 use_start_end=True,\n",
    "                                 start_token=START_TOKEN,\n",
    "                                 end_token=END_TOKEN)\n",
    "        counts = count_tokens(target_x_list)\n",
    "        # sort counts in reverse order\n",
    "        for token, count in sorted(counts.items(), key=lambda x: x[1], reverse=True):\n",
    "            if count < token_count_cutoff:\n",
    "                break\n",
    "            token_vocab.add(token)\n",
    "\n",
    "        # populate label vocab\n",
    "        label_vocab = Vocabulary(use_unks=False, use_start_end=False, use_mask=False)\n",
    "        # add the sorted unique labels \n",
    "        label_vocab.add_many(sorted(df[target_y_column].unique()))\n",
    "        \n",
    "        return cls(token_vocab, label_vocab, max_seq_length)\n",
    "    \n",
    "    def save(self, filename):\n",
    "        \"\"\"Save the vectorizer using json to the file specified\n",
    "        \n",
    "        Args:\n",
    "            filename (str): the output file\n",
    "        \"\"\"\n",
    "        vec_dict = {\"token_vocab\": self.token_vocab.get_serializable_contents(),\n",
    "                    \"label_vocab\": self.label_vocab.get_serializable_contents(),\n",
    "                    'max_seq_length': self.max_seq_length}\n",
    "\n",
    "        with open(filename, \"wb\") as fp:\n",
    "            json.dump(vec_dict, fp)\n",
    "        \n",
    "    @classmethod\n",
    "    def load(cls, filename):\n",
    "        \"\"\"Load the vectorizer from the json file it was saved to\n",
    "        \n",
    "        Args:\n",
    "            filename (str): the file into which the vectorizer was saved.\n",
    "        Returns:\n",
    "            SupervisedTextVectorizer: the instantiated vectorizer\n",
    "        \"\"\"\n",
    "        with open(filename, \"rb\") as fp:\n",
    "            contents = json.load(fp)\n",
    "\n",
    "        contents[\"token_vocab\"] = Vocabulary.deserialize_from_contents(contents[\"token_vocab\"])\n",
    "        contents[\"label_vocab\"] = Vocabulary.deserialize_from_contents(contents[\"label_vocab\"])\n",
    "        return cls(**contents)"
   ]
  },
  {
   "cell_type": "markdown",
   "metadata": {},
   "source": [
    "### Supervised Text Datset"
   ]
  },
  {
   "cell_type": "code",
   "execution_count": 13,
   "metadata": {},
   "outputs": [],
   "source": [
    "class SupervisedTextDataset(Dataset):\n",
    "    \"\"\"\n",
    "    Attributes:\n",
    "        vectorizer (SupervisedTextVectorizer): an instantiated vectorizer\n",
    "        active_split (str): the string name of the active split\n",
    "        \n",
    "        # internal use\n",
    "        _split_df (dict): a mapping from split name to partitioned DataFrame\n",
    "        _vectorized (dict): a mapping from split to an x data matrix and y vector\n",
    "        _active_df (pd.DataFrame): the DataFrame corresponding to the split\n",
    "        _active_x (np.ndarray): a matrix of the vectorized text data\n",
    "        _active_y (np.ndarray): a vector of the vectorized labels\n",
    "    \"\"\"\n",
    "    def __init__(self, df, vectorizer, target_x_column, target_y_column):\n",
    "        \"\"\"Initialize the SupervisedTextDataset\n",
    "        \n",
    "        Args:\n",
    "            df (pd.DataFrame): the dataset with a text and label column\n",
    "            vectorizer (SupervisedTextVectorizer): an instantiated vectorizer\n",
    "            target_x_column (str): the column containing the tokenized text\n",
    "            target_y_column (str): the column containing the label\n",
    "        \"\"\"\n",
    "        self._split_df = {\n",
    "            'train': df[df.split=='train'],\n",
    "            'val': df[df.split=='val'],\n",
    "            'test': df[df.split=='test']\n",
    "        }\n",
    "        \n",
    "        self._vectorized = {}\n",
    "        for split_name, split_df in self._split_df.items():\n",
    "            self._vectorized[split_name] = \\\n",
    "                vectorizer.transform(x_data_list=split_df[target_x_column].tolist(), \n",
    "                                     y_label_list=split_df[target_y_column].tolist())\n",
    "        self.vectorizer = vectorizer\n",
    "        self.active_split = None\n",
    "        self._active_df = None\n",
    "        self._active_x = None\n",
    "        self._active_y = None\n",
    "        \n",
    "        self.set_split(\"train\")\n",
    "        \n",
    "    def set_split(self, split_name):\n",
    "        \"\"\"Set the active split\n",
    "        \n",
    "        Args:\n",
    "            split_name (str): the name of the split to make active; should\n",
    "                be one of 'train', 'val', or 'test'\n",
    "        \"\"\"\n",
    "        self.active_split = split_name\n",
    "        self._active_x, self._active_y = self._vectorized[split_name]\n",
    "        self._active_df = self._split_df[split_name]\n",
    "    \n",
    "    def __getitem__(self, index):\n",
    "        \"\"\"Return the data point corresponding to the index\n",
    "        \n",
    "        Args:\n",
    "            index (int): an int between 0 and len(self._active_x)\n",
    "        Returns:\n",
    "            dict: the data for this data point. Has the following form:\n",
    "                {\"x_data\": the vectorized text data point, \n",
    "                 \"y_target\": the index of the label for this data point, \n",
    "                 \"x_lengths\": method: the number of nonzeros in the vector,\n",
    "                 \"data_index\": the provided index for bookkeeping}\n",
    "        \"\"\"\n",
    "        return {\n",
    "            \"x_data\": self._active_x[index],\n",
    "            \"y_target\": self._active_y[index],\n",
    "            \"x_lengths\": len(self._active_x[index].nonzero()[0]),\n",
    "            \"data_index\": index\n",
    "        }\n",
    "    \n",
    "    def __len__(self):\n",
    "        \"\"\"The length of the active dataset\n",
    "        \n",
    "        Returns:\n",
    "            int: len(self._active_x)\n",
    "        \"\"\"\n",
    "        return self._active_x.shape[0]"
   ]
  },
  {
   "cell_type": "markdown",
   "metadata": {},
   "source": [
    "### Datsaet Loading Function"
   ]
  },
  {
   "cell_type": "code",
   "execution_count": null,
   "metadata": {},
   "outputs": [],
   "source": [
    "def character_tokenizer(input_string):\n",
    "    \"\"\"Tokenized a string a list of its characters\n",
    "    \n",
    "    Args:\n",
    "        input_string (str): the character string to tokenize\n",
    "    Returns:\n",
    "        list: a list of characters\n",
    "    \"\"\"\n",
    "    return list(input_string.lower())\n",
    "\n",
    "def load_surname_dataset(dataset_csv, tokenizer_func, saved_vectorizer_file=None):\n",
    "    \"\"\"Load the surname dataset \n",
    "    \n",
    "    Args:\n",
    "        dataset_csv (str): the location of the dataset\n",
    "        tokenizer_func (function): the tokenizing function to turn each datapoint into \n",
    "            its tokenized form\n",
    "        saved_vectorizer_file (str or None): [default=None] if not None, load the vectorizer\n",
    "            from the file\n",
    "    \"\"\"\n",
    "    df = add_splits(pd.read_csv(dataset_csv), 'nationality')\n",
    "    df['tokenized'] = df.surname.apply(tokenizer_func)\n",
    "    df['nationality'] = df.nationality.str.lower()\n",
    "    if saved_vectorizer_file is not None:\n",
    "        vectorizer = SupervisedTextVectorizer.load(saved_vectorizer_file)\n",
    "    else:\n",
    "        vectorizer = SupervisedTextVectorizer.from_df(df, \n",
    "                                                      target_x_column='tokenized', \n",
    "                                                      target_y_column='nationality')\n",
    "    dataset = SupervisedTextDataset(df=df, \n",
    "                                    vectorizer=vectorizer, \n",
    "                                    target_x_column='tokenized', \n",
    "                                    target_y_column='nationality')\n",
    "    \n",
    "    return dataset"
   ]
  },
  {
   "cell_type": "code",
   "execution_count": 24,
   "metadata": {},
   "outputs": [],
   "source": [
    "def character_tokenizer(input_string):\n",
    "    \"\"\"Tokenized a string a list of its characters\n",
    "    \n",
    "    Args:\n",
    "        input_string (str): the character string to tokenize\n",
    "    Returns:\n",
    "        list: a list of characters\n",
    "    \"\"\"\n",
    "    return list(input_string.lower())\n",
    "\n",
    "def load_news_dataset(dataset_csv, tokenizer_func):\n",
    "    \"\"\"Load the surname dataset \n",
    "    \n",
    "    Args:\n",
    "        dataset_csv (str): the location of the dataset\n",
    "        tokenizer_func (function): the tokenizing function to turn each datapoint into \n",
    "            its tokenized form\n",
    "    \"\"\"\n",
    "    df = add_splits(df=pd.read_csv(dataset_csv, names=['label', 'title', 'content']), \n",
    "                    target_y_column='label')\n",
    "    df['tokenized'] = df.title.apply(tokenizer_func)\n",
    "    vectorizer = SupervisedTextVectorizer.from_df(df, \n",
    "                                                  target_x_column='tokenized', \n",
    "                                                  target_y_column='label')\n",
    "    dataset = SupervisedTextDataset(df=df, \n",
    "                                    vectorizer=vectorizer, \n",
    "                                    target_x_column='tokenized', \n",
    "                                    target_y_column='label')\n",
    "    \n",
    "    return dataset"
   ]
  },
  {
   "cell_type": "markdown",
   "metadata": {},
   "source": [
    "### Verify the dataset loads"
   ]
  },
  {
   "cell_type": "code",
   "execution_count": 25,
   "metadata": {},
   "outputs": [],
   "source": [
    "dataset = load_news_dataset(\"../data/zhnews.csv\", character_tokenizer)"
   ]
  },
  {
   "cell_type": "markdown",
   "metadata": {},
   "source": [
    "# Model"
   ]
  },
  {
   "cell_type": "code",
   "execution_count": 26,
   "metadata": {},
   "outputs": [],
   "source": [
    "class CharCNN(nn.Module):    \n",
    "    \"\"\"The Character-level Text Convolutional Neural Network\n",
    "    \n",
    "    Attributes:\n",
    "        embedding (nn.Embedding): the embedding for characters\n",
    "        conv_stack (nn.Sequential): a series of convolutions, relus, and batch norms\n",
    "        classifier (nn.Linear): maps the convolution outputs to the prediction vector\n",
    "    \"\"\"\n",
    "    def __init__(self, num_embeddings, embedding_size, channel_size, num_classes):\n",
    "        \"\"\"Initialize the CharNN\n",
    "        \n",
    "        Args:\n",
    "            num_embeddings (int): the number of embeddings (usually equal to the number of embeddable tokens)\n",
    "            embedding_size (int): the size of the embeddings\n",
    "            channel_size (int): the depth the convolutional models; this eventually becomes the final feature\n",
    "                size out of the CNN\n",
    "            num_classes (int): the size of the prediction vector\n",
    "        \"\"\"\n",
    "        super(CharCNN, self).__init__()\n",
    "        \n",
    "        self.embedding = nn.Embedding(num_embeddings=num_embeddings, embedding_dim=embedding_size)\n",
    "        \n",
    "        self.conv_stack = nn.Sequential(nn.Conv1d(embedding_size, channel_size, 3), \n",
    "                                         nn.ReLU(),\n",
    "                                         nn.BatchNorm1d(num_features=channel_size),\n",
    "                                         nn.Conv1d(channel_size, channel_size, 3),\n",
    "                                         nn.ReLU(),\n",
    "                                         nn.BatchNorm1d(num_features=channel_size),\n",
    "                                         nn.Conv1d(channel_size, channel_size, 3),\n",
    "                                         nn.ReLU(),\n",
    "                                         nn.BatchNorm1d(num_features=channel_size))\n",
    "        self.classifier = nn.Linear(channel_size, num_classes)\n",
    "        \n",
    "    def forward(self, x_input, apply_softmax=False):\n",
    "        \"\"\"The CharNN forward computation\n",
    "        \n",
    "        Args:\n",
    "            x_input (torch.FloatTensor): [shape=(batch_size, seq_size)] \n",
    "                The input data tensor; each item in the batch is a vector of integers\n",
    "                    representing the text.\n",
    "            apply_softmax (bool): a flag for the softmax activation should \n",
    "                be false if used with the Cross Entropy losses. See note below.\n",
    "        Note:\n",
    "            It is useful to not softmax the prediction vector because there is\n",
    "            a corresponding loss function optimized for it.  In essence, the loss\n",
    "            function associated with optimizing probabilities of multinomials is called\n",
    "            Negative Log Likelihood (NLL). To apply NLL, you first apply the log function.\n",
    "            This function cancels out with the exponential function of the softmax\n",
    "            and so some simplification can occur to shortcut the extra computations. \n",
    "        \"\"\"\n",
    "        x_embedded = self.embedding(x_input)\n",
    "        x_permuted = x_embedded.permute(0, 2, 1)\n",
    "        x_features = self.conv_stack(x_permuted).mean(dim=2)\n",
    "        # x_features = x_features.view(x_features.shape[0], -1)\n",
    "        return self.classifier(F.dropout(x_features, p=0.3))"
   ]
  },
  {
   "cell_type": "markdown",
   "metadata": {},
   "source": [
    "### Prototyping"
   ]
  },
  {
   "cell_type": "code",
   "execution_count": 29,
   "metadata": {},
   "outputs": [
    {
     "data": {
      "text/plain": [
       "tensor([[ 0.0630, -0.1576, -0.4560,  0.4507, -0.2938],\n",
       "        [ 0.0779, -0.1020, -0.2871,  0.3212, -0.1553],\n",
       "        [ 0.0631, -0.1040, -0.4228,  0.4062, -0.2156],\n",
       "        [ 0.0596, -0.0935, -0.4390,  0.4127, -0.2085]],\n",
       "       grad_fn=<AddmmBackward>)"
      ]
     },
     "execution_count": 29,
     "metadata": {},
     "output_type": "execute_result"
    }
   ],
   "source": [
    "model = CharCNN(num_embeddings=len(dataset.vectorizer.token_vocab), \n",
    "               embedding_size=16, \n",
    "               channel_size=5,\n",
    "               num_classes=len(dataset.vectorizer.label_vocab))\n",
    "batch = next(iter(DataLoader(dataset, batch_size=4)))\n",
    "model(batch['x_data'])"
   ]
  },
  {
   "cell_type": "markdown",
   "metadata": {},
   "source": [
    "# Training"
   ]
  },
  {
   "cell_type": "markdown",
   "metadata": {},
   "source": [
    "### Training Utilities"
   ]
  },
  {
   "cell_type": "code",
   "execution_count": 73,
   "metadata": {},
   "outputs": [],
   "source": [
    "def compute_accuracy(y_pred, y_target):\n",
    "    \"\"\"Compute the accuracy between a matrix of predictions and a vector of label indices\n",
    "    \n",
    "    Args:\n",
    "        y_pred (torch.FloatTensor): [shape=(batch_size, num_classes]\n",
    "            The matrix of predictions\n",
    "        y_target (torch.FloatTensor): [shape=(batch_size,)]\n",
    "            The vector of label indices\n",
    "    \"\"\"\n",
    "    y_pred_indices = y_pred.argmax(dim=1)\n",
    "    n_correct = torch.eq(y_pred_indices, y_target).sum().item()\n",
    "    return n_correct / len(y_pred_indices) * 100\n",
    "\n",
    "\n",
    "def generate_batches(dataset, batch_size, shuffle=True,\n",
    "                     drop_last=True, device=\"cpu\", dataloader_kwargs=None): \n",
    "    \"\"\"Generate batches from a dataset\n",
    "    \n",
    "    Args:\n",
    "        dataset (torch.utils.data.Dataset): the instantiated dataset\n",
    "        batch_size (int): the size of the batches\n",
    "        shuffle (bool): [default=True] batches are formed from shuffled indices\n",
    "        drop_last (bool): [default=True] don't return the final batch if it's smaller\n",
    "            than the specified batch size\n",
    "        device (str): [default=\"cpu\"] the device to move the tensors to\n",
    "        dataloader_kwargs (dict or None): [default=None] Any additional arguments to the\n",
    "            DataLoader can be specified\n",
    "    Yields:\n",
    "        dict: a dictionary mapping from tensor name to tensor object where the first\n",
    "            dimension of tensor object is the batch dimension\n",
    "    Note: \n",
    "        This function is mostly an iterator for the DataLoader, but has the added\n",
    "        feature that it moves the tensors to a target device. \n",
    "    \"\"\"\n",
    "    dataloader_kwargs = dataloader_kwargs or {}\n",
    "    \n",
    "    dataloader = DataLoader(dataset=dataset, batch_size=batch_size,\n",
    "                            shuffle=shuffle, drop_last=drop_last, **dataloader_kwargs)\n",
    "\n",
    "    for data_dict in dataloader:\n",
    "        out_data_dict = {}\n",
    "        for name, tensor in data_dict.items():\n",
    "            out_data_dict[name] = data_dict[name].to(device)\n",
    "        yield out_data_dict\n",
    "\n",
    "class TrainState:\n",
    "    \"\"\"A data structure for managing training state operations.\n",
    "    \n",
    "    The TrainState will monitor validation loss and everytime a new best loss\n",
    "        (lower is better) is observed, a couple things happen:\n",
    "        \n",
    "        1. The model is checkpointed\n",
    "        2. Patience is reset\n",
    "    \n",
    "    Attributes:\n",
    "        model (torch.nn.Module): the model being trained and will be\n",
    "            checkpointed during training.\n",
    "        dataset (SupervisedTextDataset, TextSequenceDataset): the dataset \n",
    "            which is being iterate during training; must have the `active_split`\n",
    "            attribute. \n",
    "        log_dir (str): the directory to output the checkpointed model \n",
    "        patience (int): the number of epochs since a new best loss was observed\n",
    "        \n",
    "        # Internal Use\n",
    "        _full_model_path (str): `log_dir/model_state_file`\n",
    "        _split (str): the active split\n",
    "        _best_loss (float): the best observed loss\n",
    "    \"\"\"\n",
    "    def __init__(self, model, dataset, log_dir, model_state_file=\"model.pth\"):\n",
    "        \"\"\"Initialize the TrainState\n",
    "        \n",
    "        Args:\n",
    "            model (torch.nn.Module): the model to be checkpointed during training\n",
    "            dataset (SupervisedTextDataset, TextSequenceDataset): the dataset \n",
    "                which is being iterate during training; must have the `active_split`\n",
    "                attribute. \n",
    "            log_dir (str): the directory to output the checkpointed model \n",
    "            model_state_file (str): the name of the checkpoint model\n",
    "        \"\"\"\n",
    "        self.model = model\n",
    "        self.dataset = dataset\n",
    "        self._full_model_path = os.path.join(log_dir, model_state_file)\n",
    "        if not os.path.exists(log_dir):\n",
    "            os.makedirs(log_dir)\n",
    "        self.log_dir = log_dir\n",
    "        \n",
    "        self._metrics_by_split = {\n",
    "            'train': {}, \n",
    "            'val': {}, \n",
    "            'test': {}\n",
    "        }\n",
    "        \n",
    "        self._split = 'train'\n",
    "        self._best_loss = 10**10\n",
    "        self.patience = 0\n",
    "        \n",
    "    def _init_metric(self, split, metric_name):\n",
    "        \"\"\"Initialize a metric to the specified split\n",
    "        \n",
    "        A dictionary is created in `self._metrics_by_split` with\n",
    "            the keys 'running', 'count', and 'history'. \n",
    "        \n",
    "        Args:\n",
    "            split (str): the target split to record the metric\n",
    "            metric_name (str): the name of the metric\n",
    "        \"\"\"\n",
    "        self._metrics_by_split[split][metric_name] = {\n",
    "            'running': 0.,\n",
    "            'count': 0,\n",
    "            'history': []\n",
    "        }\n",
    "        \n",
    "    def _update_metric(self, metric_name, metric_value):\n",
    "        \"\"\"Update a metric with an observed value\n",
    "        \n",
    "        Specifically, the running average is updated.\n",
    "        \n",
    "        Args:\n",
    "            metric_name (str): the name of the metric\n",
    "            metric_value (float): the observed value of the metric\n",
    "        \"\"\"\n",
    "        if metric_name not in self._metrics_by_split[self._split]:\n",
    "            self._init_metric(self._split, metric_name)\n",
    "        metric = self._metrics_by_split[self._split][metric_name]\n",
    "        metric['count'] += 1\n",
    "        metric['running'] += (metric_value - metric['running']) / metric['count']\n",
    "        \n",
    "    def set_split(self, split):\n",
    "        \"\"\"Set the dataset split\n",
    "        \n",
    "        Args:\n",
    "            split (str): the target split to set\n",
    "        \"\"\"\n",
    "        self._split = split\n",
    "        \n",
    "    def get_history(self, split, metric_name):\n",
    "        \"\"\"Get the history of values for any metric in any split\n",
    "        \n",
    "        Args:\n",
    "            split (str): the target split\n",
    "            metric_name (str): the target metric\n",
    "            \n",
    "        Returns:\n",
    "            list(float): the running average of each epoch for `metric_name` in `split` \n",
    "        \"\"\"\n",
    "        return self._metrics_by_split[split][metric_name]['history']\n",
    "    \n",
    "    def get_value_of(self, split, metric_name):\n",
    "        \"\"\"Retrieve the running average of any metric in any split\n",
    "        \n",
    "        Args:\n",
    "            split (str): the target split\n",
    "            metric_name (str): the target metric\n",
    "            \n",
    "        Returns:\n",
    "            float: the running average for `metric_name` in `split`\n",
    "        \"\"\"\n",
    "        return self._metrics_by_split[split][metric_name]['running']\n",
    "        \n",
    "    def log_metrics(self, **metrics):\n",
    "        \"\"\"Log some values for some metrics\n",
    "        \n",
    "        Args:\n",
    "            metrics (kwargs): pass keyword args with the form `metric_name=metric_value`\n",
    "                to log the metric values into the attribute `_metrics_by_split`.\n",
    "        \"\"\"\n",
    "        self._split = self.dataset.active_split\n",
    "        for metric_name, metric_value in metrics.items():\n",
    "            self._update_metric(metric_name, metric_value)\n",
    "            \n",
    "    def log_epoch_end(self):\n",
    "        \"\"\"Log the end of the epoch. \n",
    "        \n",
    "        Some key functions happen at the end of the epoch:\n",
    "            - for each metric in each split running averages, counts, \n",
    "              and history are updated\n",
    "            - the model is checkpointed if a new best value is observed\n",
    "            - patience is incremented if a new best value is not observed\n",
    "        \"\"\"\n",
    "        for split_dict in self._metrics_by_split.values():\n",
    "            for metric_dict in split_dict.values():\n",
    "                metric_dict['history'].append(metric_dict['running'])\n",
    "                metric_dict['running'] = 0.0\n",
    "                metric_dict['count'] = 0\n",
    "                \n",
    "        if 'loss' in self._metrics_by_split['val']:\n",
    "            val_loss = self._metrics_by_split['val']['loss']['history'][-1]\n",
    "            if val_loss < self._best_loss:\n",
    "                self._best_loss = val_loss\n",
    "                self.save_model()\n",
    "                self.patience = 0\n",
    "            else:\n",
    "                self.patience += 1\n",
    "    \n",
    "    def save_model(self):\n",
    "        \"\"\" Save `model` to `log_dir/model_state_file` \"\"\"\n",
    "        torch.save(self.model.state_dict(), self._full_model_path)\n",
    "    \n",
    "    def reload_best(self):\n",
    "        \"\"\" reload `log_dir/model_state_file` to `model` \"\"\"\n",
    "        if os.path.exists(self._full_model_path):\n",
    "            self.model.load_state_dict(torch.load(self._full_model_path))"
   ]
  },
  {
   "cell_type": "markdown",
   "metadata": {},
   "source": [
    "### Args"
   ]
  },
  {
   "cell_type": "code",
   "execution_count": 37,
   "metadata": {},
   "outputs": [
    {
     "name": "stdout",
     "output_type": "stream",
     "text": [
      "Using CUDA: False\n"
     ]
    },
    {
     "data": {
      "text/plain": [
       "device(type='cpu')"
      ]
     },
     "execution_count": 37,
     "metadata": {},
     "output_type": "execute_result"
    }
   ],
   "source": [
    "args = Namespace(\n",
    "    # Dataset \n",
    "    zhnews_csv=\"../data/zhnews.csv\",\n",
    "    # Model\n",
    "    embedding_size=16,\n",
    "    channel_size=64,\n",
    "    pooling_size=3,\n",
    "    # Training\n",
    "    batch_size=32,\n",
    "    num_epochs=100,\n",
    "    learning_rate=0.001,\n",
    "    cuda=True,\n",
    "    patience_threshold=3\n",
    ")\n",
    "\n",
    "# Check CUDA\n",
    "if not torch.cuda.is_available():\n",
    "    args.cuda = False\n",
    "\n",
    "print(\"Using CUDA: {}\".format(args.cuda))\n",
    "\n",
    "args.device = torch.device(\"cuda\" if args.cuda else \"cpu\")\n",
    "args.device"
   ]
  },
  {
   "cell_type": "markdown",
   "metadata": {},
   "source": [
    "### Instantiation"
   ]
  },
  {
   "cell_type": "code",
   "execution_count": 35,
   "metadata": {},
   "outputs": [],
   "source": [
    "dataset = load_news_dataset(args.zhnews_csv, tokenizer_func=character_tokenizer)\n",
    "\n",
    "args.num_embeddings = len(dataset.vectorizer.token_vocab)\n",
    "args.num_classes = len(dataset.vectorizer.label_vocab)\n",
    "\n",
    "model = CharCNN(num_embeddings=args.num_embeddings, \n",
    "                embedding_size=args.embedding_size, \n",
    "                channel_size=args.channel_size,\n",
    "                num_classes=args.num_classes)"
   ]
  },
  {
   "cell_type": "markdown",
   "metadata": {},
   "source": [
    "### Training Routine"
   ]
  },
  {
   "cell_type": "code",
   "execution_count": 41,
   "metadata": {
    "scrolled": false
   },
   "outputs": [
    {
     "data": {
      "application/vnd.jupyter.widget-view+json": {
       "model_id": "a29892fd32524cb1be8375de78eafdb3",
       "version_major": 2,
       "version_minor": 0
      },
      "text/plain": [
       "HBox(children=(IntProgress(value=0, description='epochs', style=ProgressStyle(description_width='initial')), H…"
      ]
     },
     "metadata": {},
     "output_type": "display_data"
    },
    {
     "data": {
      "application/vnd.jupyter.widget-view+json": {
       "model_id": "d3142cdcfb224a549e5b970746af5de1",
       "version_major": 2,
       "version_minor": 0
      },
      "text/plain": [
       "HBox(children=(IntProgress(value=0, description='training', max=1312, style=ProgressStyle(description_width='i…"
      ]
     },
     "metadata": {},
     "output_type": "display_data"
    },
    {
     "data": {
      "application/vnd.jupyter.widget-view+json": {
       "model_id": "2e0ed32ec9fd45eeac6c5739037e1515",
       "version_major": 2,
       "version_minor": 0
      },
      "text/plain": [
       "HBox(children=(IntProgress(value=0, description='validation', max=281, style=ProgressStyle(description_width='…"
      ]
     },
     "metadata": {},
     "output_type": "display_data"
    },
    {
     "data": {
      "application/vnd.jupyter.widget-view+json": {
       "model_id": "5aa72cdd23ad4bf39b9b0c0d966a8ab6",
       "version_major": 2,
       "version_minor": 0
      },
      "text/plain": [
       "HBox(children=(IntProgress(value=0, description='training', max=1312, style=ProgressStyle(description_width='i…"
      ]
     },
     "metadata": {},
     "output_type": "display_data"
    },
    {
     "data": {
      "application/vnd.jupyter.widget-view+json": {
       "model_id": "7180e2c5773e4ebba9101e85958c4ba1",
       "version_major": 2,
       "version_minor": 0
      },
      "text/plain": [
       "HBox(children=(IntProgress(value=0, description='validation', max=281, style=ProgressStyle(description_width='…"
      ]
     },
     "metadata": {},
     "output_type": "display_data"
    },
    {
     "data": {
      "application/vnd.jupyter.widget-view+json": {
       "model_id": "ec244666cb344326b463a2d89688e7f0",
       "version_major": 2,
       "version_minor": 0
      },
      "text/plain": [
       "HBox(children=(IntProgress(value=0, description='training', max=1312, style=ProgressStyle(description_width='i…"
      ]
     },
     "metadata": {},
     "output_type": "display_data"
    },
    {
     "data": {
      "application/vnd.jupyter.widget-view+json": {
       "model_id": "1f8a5ceabbb14d2cbf3d6df6a1a495e1",
       "version_major": 2,
       "version_minor": 0
      },
      "text/plain": [
       "HBox(children=(IntProgress(value=0, description='validation', max=281, style=ProgressStyle(description_width='…"
      ]
     },
     "metadata": {},
     "output_type": "display_data"
    },
    {
     "data": {
      "application/vnd.jupyter.widget-view+json": {
       "model_id": "86c9335eb6aa48fb83de0e968cd85543",
       "version_major": 2,
       "version_minor": 0
      },
      "text/plain": [
       "HBox(children=(IntProgress(value=0, description='training', max=1312, style=ProgressStyle(description_width='i…"
      ]
     },
     "metadata": {},
     "output_type": "display_data"
    },
    {
     "data": {
      "application/vnd.jupyter.widget-view+json": {
       "model_id": "990bac97caee4b8e81e952d83528001d",
       "version_major": 2,
       "version_minor": 0
      },
      "text/plain": [
       "HBox(children=(IntProgress(value=0, description='validation', max=281, style=ProgressStyle(description_width='…"
      ]
     },
     "metadata": {},
     "output_type": "display_data"
    },
    {
     "data": {
      "application/vnd.jupyter.widget-view+json": {
       "model_id": "3360cc65fd884d6a87037a0699a265d7",
       "version_major": 2,
       "version_minor": 0
      },
      "text/plain": [
       "HBox(children=(IntProgress(value=0, description='training', max=1312, style=ProgressStyle(description_width='i…"
      ]
     },
     "metadata": {},
     "output_type": "display_data"
    },
    {
     "data": {
      "application/vnd.jupyter.widget-view+json": {
       "model_id": "2323180043224536a073c785bcb0ea0d",
       "version_major": 2,
       "version_minor": 0
      },
      "text/plain": [
       "HBox(children=(IntProgress(value=0, description='validation', max=281, style=ProgressStyle(description_width='…"
      ]
     },
     "metadata": {},
     "output_type": "display_data"
    },
    {
     "data": {
      "application/vnd.jupyter.widget-view+json": {
       "model_id": "4e800e6be6d74ea08e17074c90d596dc",
       "version_major": 2,
       "version_minor": 0
      },
      "text/plain": [
       "HBox(children=(IntProgress(value=0, description='training', max=1312, style=ProgressStyle(description_width='i…"
      ]
     },
     "metadata": {},
     "output_type": "display_data"
    },
    {
     "data": {
      "application/vnd.jupyter.widget-view+json": {
       "model_id": "68951e3d5d6f4de8ac23b386d36d7fef",
       "version_major": 2,
       "version_minor": 0
      },
      "text/plain": [
       "HBox(children=(IntProgress(value=0, description='validation', max=281, style=ProgressStyle(description_width='…"
      ]
     },
     "metadata": {},
     "output_type": "display_data"
    },
    {
     "data": {
      "application/vnd.jupyter.widget-view+json": {
       "model_id": "c7aa8d304a494daea76801271a176737",
       "version_major": 2,
       "version_minor": 0
      },
      "text/plain": [
       "HBox(children=(IntProgress(value=0, description='training', max=1312, style=ProgressStyle(description_width='i…"
      ]
     },
     "metadata": {},
     "output_type": "display_data"
    },
    {
     "data": {
      "application/vnd.jupyter.widget-view+json": {
       "model_id": "4edf84b167344c75b145486120a5efae",
       "version_major": 2,
       "version_minor": 0
      },
      "text/plain": [
       "HBox(children=(IntProgress(value=0, description='validation', max=281, style=ProgressStyle(description_width='…"
      ]
     },
     "metadata": {},
     "output_type": "display_data"
    },
    {
     "data": {
      "application/vnd.jupyter.widget-view+json": {
       "model_id": "ad7d25ab70654e939d4a3d9c124812d8",
       "version_major": 2,
       "version_minor": 0
      },
      "text/plain": [
       "HBox(children=(IntProgress(value=0, description='training', max=1312, style=ProgressStyle(description_width='i…"
      ]
     },
     "metadata": {},
     "output_type": "display_data"
    },
    {
     "data": {
      "application/vnd.jupyter.widget-view+json": {
       "model_id": "0ba414e279a74c66b6afeec3d51165c3",
       "version_major": 2,
       "version_minor": 0
      },
      "text/plain": [
       "HBox(children=(IntProgress(value=0, description='validation', max=281, style=ProgressStyle(description_width='…"
      ]
     },
     "metadata": {},
     "output_type": "display_data"
    },
    {
     "data": {
      "application/vnd.jupyter.widget-view+json": {
       "model_id": "8843a580309542ea978636cd776b140a",
       "version_major": 2,
       "version_minor": 0
      },
      "text/plain": [
       "HBox(children=(IntProgress(value=0, description='training', max=1312, style=ProgressStyle(description_width='i…"
      ]
     },
     "metadata": {},
     "output_type": "display_data"
    },
    {
     "data": {
      "application/vnd.jupyter.widget-view+json": {
       "model_id": "17810a90b66247e99337c428ddaab50f",
       "version_major": 2,
       "version_minor": 0
      },
      "text/plain": [
       "HBox(children=(IntProgress(value=0, description='validation', max=281, style=ProgressStyle(description_width='…"
      ]
     },
     "metadata": {},
     "output_type": "display_data"
    },
    {
     "data": {
      "application/vnd.jupyter.widget-view+json": {
       "model_id": "ca31481e98f94c9b9c2865a6f351babf",
       "version_major": 2,
       "version_minor": 0
      },
      "text/plain": [
       "HBox(children=(IntProgress(value=0, description='training', max=1312, style=ProgressStyle(description_width='i…"
      ]
     },
     "metadata": {},
     "output_type": "display_data"
    },
    {
     "data": {
      "application/vnd.jupyter.widget-view+json": {
       "model_id": "5449c61243724a34873afde12d165da2",
       "version_major": 2,
       "version_minor": 0
      },
      "text/plain": [
       "HBox(children=(IntProgress(value=0, description='validation', max=281, style=ProgressStyle(description_width='…"
      ]
     },
     "metadata": {},
     "output_type": "display_data"
    },
    {
     "data": {
      "application/vnd.jupyter.widget-view+json": {
       "model_id": "2feb242978224cd6a390941e339fbb12",
       "version_major": 2,
       "version_minor": 0
      },
      "text/plain": [
       "HBox(children=(IntProgress(value=0, description='training', max=1312, style=ProgressStyle(description_width='i…"
      ]
     },
     "metadata": {},
     "output_type": "display_data"
    },
    {
     "data": {
      "application/vnd.jupyter.widget-view+json": {
       "model_id": "11b3ccf3be294540950e11f4ddc42b73",
       "version_major": 2,
       "version_minor": 0
      },
      "text/plain": [
       "HBox(children=(IntProgress(value=0, description='validation', max=281, style=ProgressStyle(description_width='…"
      ]
     },
     "metadata": {},
     "output_type": "display_data"
    },
    {
     "data": {
      "application/vnd.jupyter.widget-view+json": {
       "model_id": "12682c8ce66d48cf925b3203a2ea06f0",
       "version_major": 2,
       "version_minor": 0
      },
      "text/plain": [
       "HBox(children=(IntProgress(value=0, description='training', max=1312, style=ProgressStyle(description_width='i…"
      ]
     },
     "metadata": {},
     "output_type": "display_data"
    },
    {
     "data": {
      "application/vnd.jupyter.widget-view+json": {
       "model_id": "43b811ea43f94ee7a2c57699187696c7",
       "version_major": 2,
       "version_minor": 0
      },
      "text/plain": [
       "HBox(children=(IntProgress(value=0, description='validation', max=281, style=ProgressStyle(description_width='…"
      ]
     },
     "metadata": {},
     "output_type": "display_data"
    },
    {
     "data": {
      "application/vnd.jupyter.widget-view+json": {
       "model_id": "6c24f0ce57f64a15bd445843ba539fec",
       "version_major": 2,
       "version_minor": 0
      },
      "text/plain": [
       "HBox(children=(IntProgress(value=0, description='training', max=1312, style=ProgressStyle(description_width='i…"
      ]
     },
     "metadata": {},
     "output_type": "display_data"
    },
    {
     "data": {
      "application/vnd.jupyter.widget-view+json": {
       "model_id": "1f94fff71c9840ca88a019daf231a08d",
       "version_major": 2,
       "version_minor": 0
      },
      "text/plain": [
       "HBox(children=(IntProgress(value=0, description='validation', max=281, style=ProgressStyle(description_width='…"
      ]
     },
     "metadata": {},
     "output_type": "display_data"
    },
    {
     "data": {
      "application/vnd.jupyter.widget-view+json": {
       "model_id": "6ddf39044978449cb532e4f99cae51ec",
       "version_major": 2,
       "version_minor": 0
      },
      "text/plain": [
       "HBox(children=(IntProgress(value=0, description='training', max=1312, style=ProgressStyle(description_width='i…"
      ]
     },
     "metadata": {},
     "output_type": "display_data"
    },
    {
     "data": {
      "application/vnd.jupyter.widget-view+json": {
       "model_id": "e04043d8223a4d21a7472a673f13ee8b",
       "version_major": 2,
       "version_minor": 0
      },
      "text/plain": [
       "HBox(children=(IntProgress(value=0, description='validation', max=281, style=ProgressStyle(description_width='…"
      ]
     },
     "metadata": {},
     "output_type": "display_data"
    },
    {
     "data": {
      "application/vnd.jupyter.widget-view+json": {
       "model_id": "9b7e91f1e4864b1e95c7908ebdad444f",
       "version_major": 2,
       "version_minor": 0
      },
      "text/plain": [
       "HBox(children=(IntProgress(value=0, description='training', max=1312, style=ProgressStyle(description_width='i…"
      ]
     },
     "metadata": {},
     "output_type": "display_data"
    },
    {
     "data": {
      "application/vnd.jupyter.widget-view+json": {
       "model_id": "ae197b4c8b524b7598de6f28d838cd44",
       "version_major": 2,
       "version_minor": 0
      },
      "text/plain": [
       "HBox(children=(IntProgress(value=0, description='validation', max=281, style=ProgressStyle(description_width='…"
      ]
     },
     "metadata": {},
     "output_type": "display_data"
    },
    {
     "data": {
      "application/vnd.jupyter.widget-view+json": {
       "model_id": "3448d197849a42d0a9e80b724e1aa12b",
       "version_major": 2,
       "version_minor": 0
      },
      "text/plain": [
       "HBox(children=(IntProgress(value=0, description='training', max=1312, style=ProgressStyle(description_width='i…"
      ]
     },
     "metadata": {},
     "output_type": "display_data"
    },
    {
     "data": {
      "application/vnd.jupyter.widget-view+json": {
       "model_id": "c1467f99972745bc869204e736e255cd",
       "version_major": 2,
       "version_minor": 0
      },
      "text/plain": [
       "HBox(children=(IntProgress(value=0, description='validation', max=281, style=ProgressStyle(description_width='…"
      ]
     },
     "metadata": {},
     "output_type": "display_data"
    },
    {
     "data": {
      "application/vnd.jupyter.widget-view+json": {
       "model_id": "e99959a744b045078b7f3b8b3c27ca87",
       "version_major": 2,
       "version_minor": 0
      },
      "text/plain": [
       "HBox(children=(IntProgress(value=0, description='training', max=1312, style=ProgressStyle(description_width='i…"
      ]
     },
     "metadata": {},
     "output_type": "display_data"
    },
    {
     "data": {
      "application/vnd.jupyter.widget-view+json": {
       "model_id": "e82434bb0b9b462e9b0b296a787114de",
       "version_major": 2,
       "version_minor": 0
      },
      "text/plain": [
       "HBox(children=(IntProgress(value=0, description='validation', max=281, style=ProgressStyle(description_width='…"
      ]
     },
     "metadata": {},
     "output_type": "display_data"
    },
    {
     "data": {
      "application/vnd.jupyter.widget-view+json": {
       "model_id": "bc6a9eaba1fc499f8d2c875a87325b96",
       "version_major": 2,
       "version_minor": 0
      },
      "text/plain": [
       "HBox(children=(IntProgress(value=0, description='test', max=281, style=ProgressStyle(description_width='initia…"
      ]
     },
     "metadata": {},
     "output_type": "display_data"
    }
   ],
   "source": [
    "model = model.to(args.device)\n",
    "\n",
    "train_state = TrainState(model=model, dataset=dataset, log_dir='./logs/charcnn_zhnews',  \n",
    "                         model_state_file='model.pth')\n",
    "\n",
    "optimizer = optim.Adam(model.parameters(), lr=args.learning_rate)\n",
    "loss_func = nn.CrossEntropyLoss()\n",
    "\n",
    "epoch_bar = tqdm_notebook(desc='epochs', total=args.num_epochs)\n",
    "\n",
    "try:\n",
    "    for _ in range(args.num_epochs):\n",
    "        model.train()\n",
    "        dataset.set_split(\"train\")\n",
    "        train_bar = tqdm_notebook(desc='training', total=len(dataset)//args.batch_size)\n",
    "        \n",
    "        for batch in generate_batches(dataset, batch_size=args.batch_size, device=args.device):\n",
    "            # Step 1: clear the gradients \n",
    "            optimizer.zero_grad()\n",
    "            \n",
    "            # Step 2: compute the outputs\n",
    "            y_prediction = model(batch['x_data'])\n",
    "\n",
    "            # Step 3: compute the loss\n",
    "            loss = loss_func(y_prediction, batch['y_target'])\n",
    "            \n",
    "            # Step 4: propagate the gradients\n",
    "            loss.backward() \n",
    "            \n",
    "            # Step 5: update the model weights\n",
    "            optimizer.step()\n",
    "            \n",
    "            # Auxillary: logging\n",
    "            train_state.log_metrics(loss=loss.item(), \n",
    "                                    accuracy=compute_accuracy(y_prediction, batch['y_target']))\n",
    "            \n",
    "            train_bar.set_postfix(loss=train_state.get_value_of(split=\"train\", metric_name=\"loss\"),\n",
    "                                  acc=train_state.get_value_of(split=\"train\", metric_name=\"accuracy\"))\n",
    "            train_bar.update()\n",
    "            \n",
    "        model.eval()\n",
    "        dataset.set_split(\"val\")\n",
    "        val_bar = tqdm_notebook(desc='validation', total=len(dataset)//args.batch_size)\n",
    "        \n",
    "        for batch in generate_batches(dataset, batch_size=args.batch_size, device=args.device):\n",
    "            # Step 1: compute the outputs\n",
    "            y_prediction = model(batch['x_data'])\n",
    "\n",
    "            # Step 2: compute the loss\n",
    "            loss = loss_func(y_prediction, batch['y_target'])\n",
    "            \n",
    "            # Auxillary: logging\n",
    "            train_state.log_metrics(loss=loss.item(), \n",
    "                                    accuracy=compute_accuracy(y_prediction, batch['y_target']))\n",
    "            \n",
    "            val_bar.set_postfix(loss=train_state.get_value_of(split=\"val\", metric_name=\"loss\"),\n",
    "                                  acc=train_state.get_value_of(split=\"val\", metric_name=\"accuracy\"))\n",
    "            val_bar.update()\n",
    "\n",
    "        epoch_bar.set_postfix(train_loss=train_state.get_value_of(split=\"train\", \n",
    "                                                                  metric_name=\"loss\"), \n",
    "                              train_accuracy=train_state.get_value_of(split=\"train\", \n",
    "                                                                      metric_name=\"accuracy\"),\n",
    "                              val_loss=train_state.get_value_of(split=\"val\", \n",
    "                                                                metric_name=\"loss\"), \n",
    "                              val_accuracy=train_state.get_value_of(split=\"val\", \n",
    "                                                                    metric_name=\"accuracy\"),\n",
    "                              patience=train_state.patience)\n",
    "        epoch_bar.update()\n",
    "        train_state.log_epoch_end()\n",
    "        \n",
    "        if train_state.patience > args.patience_threshold:\n",
    "            break\n",
    "    \n",
    "    train_state.reload_best()\n",
    "    model.eval()\n",
    "    dataset.set_split(\"test\")\n",
    "    test_bar = tqdm_notebook(desc='test', total=len(dataset)//args.batch_size)\n",
    "\n",
    "    for batch in generate_batches(dataset, batch_size=args.batch_size, device=args.device):\n",
    "        # Step 1: compute the outputs\n",
    "        y_prediction = model(batch['x_data'])\n",
    "\n",
    "        # Step 2: compute the loss\n",
    "        loss = loss_func(y_prediction, batch['y_target'])\n",
    "\n",
    "        # Auxillary: logging\n",
    "        train_state.log_metrics(loss=loss.item(), \n",
    "                                accuracy=compute_accuracy(y_prediction, batch['y_target']))\n",
    "\n",
    "        test_bar.set_postfix(loss=train_state.get_value_of(split=\"test\", metric_name=\"loss\"),\n",
    "                             acc=train_state.get_value_of(split=\"test\", metric_name=\"accuracy\"))\n",
    "        test_bar.update()\n",
    "    \n",
    "        \n",
    "except KeyboardInterrupt:\n",
    "    pass"
   ]
  },
  {
   "cell_type": "markdown",
   "metadata": {},
   "source": [
    "# Analysis"
   ]
  },
  {
   "cell_type": "code",
   "execution_count": 72,
   "metadata": {},
   "outputs": [
    {
     "data": {
      "text/plain": [
       "<matplotlib.legend.Legend at 0x7f5364b8cc88>"
      ]
     },
     "execution_count": 72,
     "metadata": {},
     "output_type": "execute_result"
    },
    {
     "data": {
      "image/png": "[encoded data removed]",
      "text/plain": [
       "<Figure size 1008x432 with 2 Axes>"
      ]
     },
     "metadata": {},
     "output_type": "display_data"
    }
   ],
   "source": [
    "plt.plot(train_state.get_history(split='train', metric_name='loss'), label='train loss', color='red')\n",
    "plt.plot(train_state.get_history(split='val', metric_name='loss'), label='validation loss', color='blue')\n",
    "plt.ylabel(\"Loss\")\n",
    "plt.legend(loc=2, ncol=2)\n",
    "\n",
    "plt.twinx()\n",
    "\n",
    "plt.plot(train_state.get_history(split='train', metric_name='accuracy'), label='train accuracy', ls='--', color='red')\n",
    "plt.plot(train_state.get_history(split='val', metric_name='accuracy'), label='validation accuracy', ls='--', color='blue')\n",
    "\n",
    "plt.xlabel(\"Epoch\")\n",
    "plt.ylabel(\"Accuracy\")\n",
    "\n",
    "plt.legend(loc=3, ncol=2)"
   ]
  },
  {
   "cell_type": "code",
   "execution_count": null,
   "metadata": {},
   "outputs": [],
   "source": []
  }
 ],
 "metadata": {
  "kernelspec": {
   "display_name": "magis",
   "language": "python",
   "name": "magis"
  },
  "language_info": {
   "codemirror_mode": {
    "name": "ipython",
    "version": 3
   },
   "file_extension": ".py",
   "mimetype": "text/x-python",
   "name": "python",
   "nbconvert_exporter": "python",
   "pygments_lexer": "ipython3",
   "version": "3.7.2"
  }
 },
 "nbformat": 4,
 "nbformat_minor": 2
}
